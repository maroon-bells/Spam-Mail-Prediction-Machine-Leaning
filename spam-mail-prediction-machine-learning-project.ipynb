{
 "cells": [
  {
   "cell_type": "markdown",
   "id": "514f2e75",
   "metadata": {
    "papermill": {
     "duration": 0.022613,
     "end_time": "2022-02-13T08:05:20.126038",
     "exception": false,
     "start_time": "2022-02-13T08:05:20.103425",
     "status": "completed"
    },
    "tags": []
   },
   "source": [
    "# Importing the Dependencies"
   ]
  },
  {
   "cell_type": "code",
   "execution_count": 1,
   "id": "7cdb1251",
   "metadata": {
    "_cell_guid": "b1076dfc-b9ad-4769-8c92-a6c4dae69d19",
    "_uuid": "8f2839f25d086af736a60e9eeb907d3b93b6e0e5",
    "execution": {
     "iopub.execute_input": "2022-02-13T08:05:20.174085Z",
     "iopub.status.busy": "2022-02-13T08:05:20.173014Z",
     "iopub.status.idle": "2022-02-13T08:05:21.403813Z",
     "shell.execute_reply": "2022-02-13T08:05:21.403178Z",
     "shell.execute_reply.started": "2022-02-13T07:58:48.338866Z"
    },
    "papermill": {
     "duration": 1.255834,
     "end_time": "2022-02-13T08:05:21.403978",
     "exception": false,
     "start_time": "2022-02-13T08:05:20.148144",
     "status": "completed"
    },
    "tags": []
   },
   "outputs": [],
   "source": [
    "import numpy as np\n",
    "import pandas as pd\n",
    "from sklearn.model_selection import train_test_split\n",
    "from sklearn.feature_extraction.text import TfidfVectorizer\n",
    "from sklearn.linear_model import LogisticRegression\n",
    "from sklearn.metrics import accuracy_score"
   ]
  },
  {
   "cell_type": "markdown",
   "id": "1f556f7e",
   "metadata": {
    "papermill": {
     "duration": 0.020283,
     "end_time": "2022-02-13T08:05:21.445187",
     "exception": false,
     "start_time": "2022-02-13T08:05:21.424904",
     "status": "completed"
    },
    "tags": []
   },
   "source": [
    "# Data Collection & Pre-Processing"
   ]
  },
  {
   "cell_type": "code",
   "execution_count": 2,
   "id": "480f1f1a",
   "metadata": {
    "execution": {
     "iopub.execute_input": "2022-02-13T08:05:21.489223Z",
     "iopub.status.busy": "2022-02-13T08:05:21.488685Z",
     "iopub.status.idle": "2022-02-13T08:05:21.522586Z",
     "shell.execute_reply": "2022-02-13T08:05:21.523108Z",
     "shell.execute_reply.started": "2022-02-13T07:59:35.448758Z"
    },
    "papermill": {
     "duration": 0.0574,
     "end_time": "2022-02-13T08:05:21.523279",
     "exception": false,
     "start_time": "2022-02-13T08:05:21.465879",
     "status": "completed"
    },
    "tags": []
   },
   "outputs": [],
   "source": [
    "# loading the data from csv file to a pandas Dataframe\n",
    "raw_mail_data = pd.read_csv('../input/maildataset/mail_data.csv')"
   ]
  },
  {
   "cell_type": "code",
   "execution_count": 3,
   "id": "3a84ecba",
   "metadata": {
    "execution": {
     "iopub.execute_input": "2022-02-13T08:05:21.568741Z",
     "iopub.status.busy": "2022-02-13T08:05:21.568166Z",
     "iopub.status.idle": "2022-02-13T08:05:21.581082Z",
     "shell.execute_reply": "2022-02-13T08:05:21.581542Z",
     "shell.execute_reply.started": "2022-02-13T07:59:47.683154Z"
    },
    "papermill": {
     "duration": 0.036625,
     "end_time": "2022-02-13T08:05:21.581729",
     "exception": false,
     "start_time": "2022-02-13T08:05:21.545104",
     "status": "completed"
    },
    "tags": []
   },
   "outputs": [
    {
     "name": "stdout",
     "output_type": "stream",
     "text": [
      "     Category                                            Message\n",
      "0         ham  Go until jurong point, crazy.. Available only ...\n",
      "1         ham                      Ok lar... Joking wif u oni...\n",
      "2        spam  Free entry in 2 a wkly comp to win FA Cup fina...\n",
      "3         ham  U dun say so early hor... U c already then say...\n",
      "4         ham  Nah I don't think he goes to usf, he lives aro...\n",
      "...       ...                                                ...\n",
      "5567     spam  This is the 2nd time we have tried 2 contact u...\n",
      "5568      ham               Will ü b going to esplanade fr home?\n",
      "5569      ham  Pity, * was in mood for that. So...any other s...\n",
      "5570      ham  The guy did some bitching but I acted like i'd...\n",
      "5571      ham                         Rofl. Its true to its name\n",
      "\n",
      "[5572 rows x 2 columns]\n"
     ]
    }
   ],
   "source": [
    "print(raw_mail_data)"
   ]
  },
  {
   "cell_type": "code",
   "execution_count": 4,
   "id": "ba25a2c4",
   "metadata": {
    "execution": {
     "iopub.execute_input": "2022-02-13T08:05:21.627948Z",
     "iopub.status.busy": "2022-02-13T08:05:21.627361Z",
     "iopub.status.idle": "2022-02-13T08:05:21.632494Z",
     "shell.execute_reply": "2022-02-13T08:05:21.633002Z",
     "shell.execute_reply.started": "2022-02-13T07:59:57.015375Z"
    },
    "papermill": {
     "duration": 0.029672,
     "end_time": "2022-02-13T08:05:21.633160",
     "exception": false,
     "start_time": "2022-02-13T08:05:21.603488",
     "status": "completed"
    },
    "tags": []
   },
   "outputs": [],
   "source": [
    "# replace the null values with a null string\n",
    "mail_data = raw_mail_data.where((pd.notnull(raw_mail_data)),'')"
   ]
  },
  {
   "cell_type": "code",
   "execution_count": 5,
   "id": "88284658",
   "metadata": {
    "execution": {
     "iopub.execute_input": "2022-02-13T08:05:21.678322Z",
     "iopub.status.busy": "2022-02-13T08:05:21.677784Z",
     "iopub.status.idle": "2022-02-13T08:05:21.690495Z",
     "shell.execute_reply": "2022-02-13T08:05:21.690973Z",
     "shell.execute_reply.started": "2022-02-13T08:00:03.569672Z"
    },
    "papermill": {
     "duration": 0.036489,
     "end_time": "2022-02-13T08:05:21.691132",
     "exception": false,
     "start_time": "2022-02-13T08:05:21.654643",
     "status": "completed"
    },
    "tags": []
   },
   "outputs": [
    {
     "data": {
      "text/html": [
       "<div>\n",
       "<style scoped>\n",
       "    .dataframe tbody tr th:only-of-type {\n",
       "        vertical-align: middle;\n",
       "    }\n",
       "\n",
       "    .dataframe tbody tr th {\n",
       "        vertical-align: top;\n",
       "    }\n",
       "\n",
       "    .dataframe thead th {\n",
       "        text-align: right;\n",
       "    }\n",
       "</style>\n",
       "<table border=\"1\" class=\"dataframe\">\n",
       "  <thead>\n",
       "    <tr style=\"text-align: right;\">\n",
       "      <th></th>\n",
       "      <th>Category</th>\n",
       "      <th>Message</th>\n",
       "    </tr>\n",
       "  </thead>\n",
       "  <tbody>\n",
       "    <tr>\n",
       "      <th>0</th>\n",
       "      <td>ham</td>\n",
       "      <td>Go until jurong point, crazy.. Available only ...</td>\n",
       "    </tr>\n",
       "    <tr>\n",
       "      <th>1</th>\n",
       "      <td>ham</td>\n",
       "      <td>Ok lar... Joking wif u oni...</td>\n",
       "    </tr>\n",
       "    <tr>\n",
       "      <th>2</th>\n",
       "      <td>spam</td>\n",
       "      <td>Free entry in 2 a wkly comp to win FA Cup fina...</td>\n",
       "    </tr>\n",
       "    <tr>\n",
       "      <th>3</th>\n",
       "      <td>ham</td>\n",
       "      <td>U dun say so early hor... U c already then say...</td>\n",
       "    </tr>\n",
       "    <tr>\n",
       "      <th>4</th>\n",
       "      <td>ham</td>\n",
       "      <td>Nah I don't think he goes to usf, he lives aro...</td>\n",
       "    </tr>\n",
       "  </tbody>\n",
       "</table>\n",
       "</div>"
      ],
      "text/plain": [
       "  Category                                            Message\n",
       "0      ham  Go until jurong point, crazy.. Available only ...\n",
       "1      ham                      Ok lar... Joking wif u oni...\n",
       "2     spam  Free entry in 2 a wkly comp to win FA Cup fina...\n",
       "3      ham  U dun say so early hor... U c already then say...\n",
       "4      ham  Nah I don't think he goes to usf, he lives aro..."
      ]
     },
     "execution_count": 5,
     "metadata": {},
     "output_type": "execute_result"
    }
   ],
   "source": [
    "# printing the first 5 rows of the dataframe\n",
    "mail_data.head()"
   ]
  },
  {
   "cell_type": "code",
   "execution_count": 6,
   "id": "4fc63814",
   "metadata": {
    "execution": {
     "iopub.execute_input": "2022-02-13T08:05:21.739301Z",
     "iopub.status.busy": "2022-02-13T08:05:21.738659Z",
     "iopub.status.idle": "2022-02-13T08:05:21.741066Z",
     "shell.execute_reply": "2022-02-13T08:05:21.741496Z",
     "shell.execute_reply.started": "2022-02-13T08:00:13.541288Z"
    },
    "papermill": {
     "duration": 0.02902,
     "end_time": "2022-02-13T08:05:21.741679",
     "exception": false,
     "start_time": "2022-02-13T08:05:21.712659",
     "status": "completed"
    },
    "tags": []
   },
   "outputs": [
    {
     "data": {
      "text/plain": [
       "(5572, 2)"
      ]
     },
     "execution_count": 6,
     "metadata": {},
     "output_type": "execute_result"
    }
   ],
   "source": [
    "# checking the number of rows and columns in the dataframe\n",
    "mail_data.shape"
   ]
  },
  {
   "cell_type": "markdown",
   "id": "c40fa730",
   "metadata": {
    "papermill": {
     "duration": 0.021833,
     "end_time": "2022-02-13T08:05:21.787833",
     "exception": false,
     "start_time": "2022-02-13T08:05:21.766000",
     "status": "completed"
    },
    "tags": []
   },
   "source": [
    "# Label Encoding"
   ]
  },
  {
   "cell_type": "code",
   "execution_count": 7,
   "id": "74f9dece",
   "metadata": {
    "execution": {
     "iopub.execute_input": "2022-02-13T08:05:21.835400Z",
     "iopub.status.busy": "2022-02-13T08:05:21.834831Z",
     "iopub.status.idle": "2022-02-13T08:05:21.844136Z",
     "shell.execute_reply": "2022-02-13T08:05:21.844537Z",
     "shell.execute_reply.started": "2022-02-13T08:00:32.312819Z"
    },
    "papermill": {
     "duration": 0.034185,
     "end_time": "2022-02-13T08:05:21.844726",
     "exception": false,
     "start_time": "2022-02-13T08:05:21.810541",
     "status": "completed"
    },
    "tags": []
   },
   "outputs": [],
   "source": [
    "# label spam mail as 0;  ham mail as 1;\n",
    "\n",
    "mail_data.loc[mail_data['Category'] == 'spam', 'Category',] = 0\n",
    "mail_data.loc[mail_data['Category'] == 'ham', 'Category',] = 1"
   ]
  },
  {
   "cell_type": "markdown",
   "id": "b675ff06",
   "metadata": {
    "papermill": {
     "duration": 0.021613,
     "end_time": "2022-02-13T08:05:21.888215",
     "exception": false,
     "start_time": "2022-02-13T08:05:21.866602",
     "status": "completed"
    },
    "tags": []
   },
   "source": [
    "* spam - 0\n",
    " \n",
    "* ham - 1"
   ]
  },
  {
   "cell_type": "code",
   "execution_count": 8,
   "id": "6d9e1363",
   "metadata": {
    "execution": {
     "iopub.execute_input": "2022-02-13T08:05:21.935314Z",
     "iopub.status.busy": "2022-02-13T08:05:21.934734Z",
     "iopub.status.idle": "2022-02-13T08:05:21.939229Z",
     "shell.execute_reply": "2022-02-13T08:05:21.939959Z",
     "shell.execute_reply.started": "2022-02-13T08:00:55.861439Z"
    },
    "papermill": {
     "duration": 0.030064,
     "end_time": "2022-02-13T08:05:21.940186",
     "exception": false,
     "start_time": "2022-02-13T08:05:21.910122",
     "status": "completed"
    },
    "tags": []
   },
   "outputs": [],
   "source": [
    "# separating the data as texts and label\n",
    "\n",
    "X = mail_data['Message']\n",
    "\n",
    "Y = mail_data['Category']"
   ]
  },
  {
   "cell_type": "code",
   "execution_count": 9,
   "id": "b922eaa6",
   "metadata": {
    "execution": {
     "iopub.execute_input": "2022-02-13T08:05:22.008478Z",
     "iopub.status.busy": "2022-02-13T08:05:22.004294Z",
     "iopub.status.idle": "2022-02-13T08:05:22.011401Z",
     "shell.execute_reply": "2022-02-13T08:05:22.012050Z",
     "shell.execute_reply.started": "2022-02-13T08:01:03.061297Z"
    },
    "papermill": {
     "duration": 0.040335,
     "end_time": "2022-02-13T08:05:22.012291",
     "exception": false,
     "start_time": "2022-02-13T08:05:21.971956",
     "status": "completed"
    },
    "tags": []
   },
   "outputs": [
    {
     "name": "stdout",
     "output_type": "stream",
     "text": [
      "0       Go until jurong point, crazy.. Available only ...\n",
      "1                           Ok lar... Joking wif u oni...\n",
      "2       Free entry in 2 a wkly comp to win FA Cup fina...\n",
      "3       U dun say so early hor... U c already then say...\n",
      "4       Nah I don't think he goes to usf, he lives aro...\n",
      "                              ...                        \n",
      "5567    This is the 2nd time we have tried 2 contact u...\n",
      "5568                 Will ü b going to esplanade fr home?\n",
      "5569    Pity, * was in mood for that. So...any other s...\n",
      "5570    The guy did some bitching but I acted like i'd...\n",
      "5571                           Rofl. Its true to its name\n",
      "Name: Message, Length: 5572, dtype: object\n"
     ]
    }
   ],
   "source": [
    "print(X)"
   ]
  },
  {
   "cell_type": "code",
   "execution_count": 10,
   "id": "4be259a7",
   "metadata": {
    "execution": {
     "iopub.execute_input": "2022-02-13T08:05:22.071261Z",
     "iopub.status.busy": "2022-02-13T08:05:22.070690Z",
     "iopub.status.idle": "2022-02-13T08:05:22.077318Z",
     "shell.execute_reply": "2022-02-13T08:05:22.076835Z",
     "shell.execute_reply.started": "2022-02-13T08:01:15.219638Z"
    },
    "papermill": {
     "duration": 0.034103,
     "end_time": "2022-02-13T08:05:22.077445",
     "exception": false,
     "start_time": "2022-02-13T08:05:22.043342",
     "status": "completed"
    },
    "tags": []
   },
   "outputs": [
    {
     "name": "stdout",
     "output_type": "stream",
     "text": [
      "0       1\n",
      "1       1\n",
      "2       0\n",
      "3       1\n",
      "4       1\n",
      "       ..\n",
      "5567    0\n",
      "5568    1\n",
      "5569    1\n",
      "5570    1\n",
      "5571    1\n",
      "Name: Category, Length: 5572, dtype: object\n"
     ]
    }
   ],
   "source": [
    "print(Y)"
   ]
  },
  {
   "cell_type": "markdown",
   "id": "cf12947d",
   "metadata": {
    "papermill": {
     "duration": 0.022187,
     "end_time": "2022-02-13T08:05:22.122433",
     "exception": false,
     "start_time": "2022-02-13T08:05:22.100246",
     "status": "completed"
    },
    "tags": []
   },
   "source": [
    "# Splitting the data into training data & test data"
   ]
  },
  {
   "cell_type": "code",
   "execution_count": 11,
   "id": "5eaab632",
   "metadata": {
    "execution": {
     "iopub.execute_input": "2022-02-13T08:05:22.170416Z",
     "iopub.status.busy": "2022-02-13T08:05:22.169888Z",
     "iopub.status.idle": "2022-02-13T08:05:22.175893Z",
     "shell.execute_reply": "2022-02-13T08:05:22.176409Z",
     "shell.execute_reply.started": "2022-02-13T08:01:43.929447Z"
    },
    "papermill": {
     "duration": 0.031592,
     "end_time": "2022-02-13T08:05:22.176580",
     "exception": false,
     "start_time": "2022-02-13T08:05:22.144988",
     "status": "completed"
    },
    "tags": []
   },
   "outputs": [],
   "source": [
    "X_train, X_test, Y_train, Y_test = train_test_split(X, Y, test_size=0.2, random_state=3)"
   ]
  },
  {
   "cell_type": "code",
   "execution_count": 12,
   "id": "a762e1aa",
   "metadata": {
    "execution": {
     "iopub.execute_input": "2022-02-13T08:05:22.226366Z",
     "iopub.status.busy": "2022-02-13T08:05:22.225779Z",
     "iopub.status.idle": "2022-02-13T08:05:22.229141Z",
     "shell.execute_reply": "2022-02-13T08:05:22.229561Z",
     "shell.execute_reply.started": "2022-02-13T08:01:52.704059Z"
    },
    "papermill": {
     "duration": 0.030786,
     "end_time": "2022-02-13T08:05:22.229719",
     "exception": false,
     "start_time": "2022-02-13T08:05:22.198933",
     "status": "completed"
    },
    "tags": []
   },
   "outputs": [
    {
     "name": "stdout",
     "output_type": "stream",
     "text": [
      "(5572,)\n",
      "(4457,)\n",
      "(1115,)\n"
     ]
    }
   ],
   "source": [
    "print(X.shape)\n",
    "print(X_train.shape)\n",
    "print(X_test.shape)"
   ]
  },
  {
   "cell_type": "markdown",
   "id": "55295822",
   "metadata": {
    "papermill": {
     "duration": 0.022647,
     "end_time": "2022-02-13T08:05:22.275344",
     "exception": false,
     "start_time": "2022-02-13T08:05:22.252697",
     "status": "completed"
    },
    "tags": []
   },
   "source": [
    "Feature Extraction"
   ]
  },
  {
   "cell_type": "code",
   "execution_count": 13,
   "id": "64e5b11b",
   "metadata": {
    "execution": {
     "iopub.execute_input": "2022-02-13T08:05:22.324607Z",
     "iopub.status.busy": "2022-02-13T08:05:22.324055Z",
     "iopub.status.idle": "2022-02-13T08:05:22.425775Z",
     "shell.execute_reply": "2022-02-13T08:05:22.425135Z",
     "shell.execute_reply.started": "2022-02-13T08:02:10.622253Z"
    },
    "papermill": {
     "duration": 0.127765,
     "end_time": "2022-02-13T08:05:22.425918",
     "exception": false,
     "start_time": "2022-02-13T08:05:22.298153",
     "status": "completed"
    },
    "tags": []
   },
   "outputs": [],
   "source": [
    "# transform the text data to feature vectors that can be used as input to the Logistic regression\n",
    "\n",
    "feature_extraction = TfidfVectorizer(min_df = 1, stop_words='english', lowercase='True')\n",
    "\n",
    "X_train_features = feature_extraction.fit_transform(X_train)\n",
    "X_test_features = feature_extraction.transform(X_test)\n",
    "\n",
    "# convert Y_train and Y_test values as integers\n",
    "\n",
    "Y_train = Y_train.astype('int')\n",
    "Y_test = Y_test.astype('int')"
   ]
  },
  {
   "cell_type": "code",
   "execution_count": 14,
   "id": "6408f606",
   "metadata": {
    "execution": {
     "iopub.execute_input": "2022-02-13T08:05:22.477760Z",
     "iopub.status.busy": "2022-02-13T08:05:22.477107Z",
     "iopub.status.idle": "2022-02-13T08:05:22.479865Z",
     "shell.execute_reply": "2022-02-13T08:05:22.480374Z",
     "shell.execute_reply.started": "2022-02-13T08:02:28.994337Z"
    },
    "papermill": {
     "duration": 0.031435,
     "end_time": "2022-02-13T08:05:22.480534",
     "exception": false,
     "start_time": "2022-02-13T08:05:22.449099",
     "status": "completed"
    },
    "tags": []
   },
   "outputs": [
    {
     "name": "stdout",
     "output_type": "stream",
     "text": [
      "3075                  Don know. I did't msg him recently.\n",
      "1787    Do you know why god created gap between your f...\n",
      "1614                         Thnx dude. u guys out 2nite?\n",
      "4304                                      Yup i'm free...\n",
      "3266    44 7732584351, Do you want a New Nokia 3510i c...\n",
      "                              ...                        \n",
      "789     5 Free Top Polyphonic Tones call 087018728737,...\n",
      "968     What do u want when i come back?.a beautiful n...\n",
      "1667    Guess who spent all last night phasing in and ...\n",
      "3321    Eh sorry leh... I din c ur msg. Not sad alread...\n",
      "1688    Free Top ringtone -sub to weekly ringtone-get ...\n",
      "Name: Message, Length: 4457, dtype: object\n"
     ]
    }
   ],
   "source": [
    "print(X_train)"
   ]
  },
  {
   "cell_type": "code",
   "execution_count": 15,
   "id": "bb5599cd",
   "metadata": {
    "execution": {
     "iopub.execute_input": "2022-02-13T08:05:22.531126Z",
     "iopub.status.busy": "2022-02-13T08:05:22.530278Z",
     "iopub.status.idle": "2022-02-13T08:05:22.535499Z",
     "shell.execute_reply": "2022-02-13T08:05:22.535072Z",
     "shell.execute_reply.started": "2022-02-13T08:02:37.469975Z"
    },
    "papermill": {
     "duration": 0.031952,
     "end_time": "2022-02-13T08:05:22.535679",
     "exception": false,
     "start_time": "2022-02-13T08:05:22.503727",
     "status": "completed"
    },
    "tags": []
   },
   "outputs": [
    {
     "name": "stdout",
     "output_type": "stream",
     "text": [
      "  (0, 5413)\t0.6198254967574347\n",
      "  (0, 4456)\t0.4168658090846482\n",
      "  (0, 2224)\t0.413103377943378\n",
      "  (0, 3811)\t0.34780165336891333\n",
      "  (0, 2329)\t0.38783870336935383\n",
      "  (1, 4080)\t0.18880584110891163\n",
      "  (1, 3185)\t0.29694482957694585\n",
      "  (1, 3325)\t0.31610586766078863\n",
      "  (1, 2957)\t0.3398297002864083\n",
      "  (1, 2746)\t0.3398297002864083\n",
      "  (1, 918)\t0.22871581159877646\n",
      "  (1, 1839)\t0.2784903590561455\n",
      "  (1, 2758)\t0.3226407885943799\n",
      "  (1, 2956)\t0.33036995955537024\n",
      "  (1, 1991)\t0.33036995955537024\n",
      "  (1, 3046)\t0.2503712792613518\n",
      "  (1, 3811)\t0.17419952275504033\n",
      "  (2, 407)\t0.509272536051008\n",
      "  (2, 3156)\t0.4107239318312698\n",
      "  (2, 2404)\t0.45287711070606745\n",
      "  (2, 6601)\t0.6056811524587518\n",
      "  (3, 2870)\t0.5864269879324768\n",
      "  (3, 7414)\t0.8100020912469564\n",
      "  (4, 50)\t0.23633754072626942\n",
      "  (4, 5497)\t0.15743785051118356\n",
      "  :\t:\n",
      "  (4454, 4602)\t0.2669765732445391\n",
      "  (4454, 3142)\t0.32014451677763156\n",
      "  (4455, 2247)\t0.37052851863170466\n",
      "  (4455, 2469)\t0.35441545511837946\n",
      "  (4455, 5646)\t0.33545678464631296\n",
      "  (4455, 6810)\t0.29731757715898277\n",
      "  (4455, 6091)\t0.23103841516927642\n",
      "  (4455, 7113)\t0.30536590342067704\n",
      "  (4455, 3872)\t0.3108911491788658\n",
      "  (4455, 4715)\t0.30714144758811196\n",
      "  (4455, 6916)\t0.19636985317119715\n",
      "  (4455, 3922)\t0.31287563163368587\n",
      "  (4455, 4456)\t0.24920025316220423\n",
      "  (4456, 141)\t0.292943737785358\n",
      "  (4456, 647)\t0.30133182431707617\n",
      "  (4456, 6311)\t0.30133182431707617\n",
      "  (4456, 5569)\t0.4619395404299172\n",
      "  (4456, 6028)\t0.21034888000987115\n",
      "  (4456, 7154)\t0.24083218452280053\n",
      "  (4456, 7150)\t0.3677554681447669\n",
      "  (4456, 6249)\t0.17573831794959716\n",
      "  (4456, 6307)\t0.2752760476857975\n",
      "  (4456, 334)\t0.2220077711654938\n",
      "  (4456, 5778)\t0.16243064490100795\n",
      "  (4456, 2870)\t0.31523196273113385\n"
     ]
    }
   ],
   "source": [
    "print(X_train_features)"
   ]
  },
  {
   "cell_type": "markdown",
   "id": "bb530bb2",
   "metadata": {
    "papermill": {
     "duration": 0.023524,
     "end_time": "2022-02-13T08:05:22.582811",
     "exception": false,
     "start_time": "2022-02-13T08:05:22.559287",
     "status": "completed"
    },
    "tags": []
   },
   "source": [
    "# Training the Model\n",
    "\n",
    "Logistic Regression"
   ]
  },
  {
   "cell_type": "code",
   "execution_count": 16,
   "id": "000c3761",
   "metadata": {
    "execution": {
     "iopub.execute_input": "2022-02-13T08:05:22.633875Z",
     "iopub.status.busy": "2022-02-13T08:05:22.632986Z",
     "iopub.status.idle": "2022-02-13T08:05:22.636396Z",
     "shell.execute_reply": "2022-02-13T08:05:22.636999Z",
     "shell.execute_reply.started": "2022-02-13T08:03:02.585437Z"
    },
    "papermill": {
     "duration": 0.030561,
     "end_time": "2022-02-13T08:05:22.637155",
     "exception": false,
     "start_time": "2022-02-13T08:05:22.606594",
     "status": "completed"
    },
    "tags": []
   },
   "outputs": [],
   "source": [
    "model = LogisticRegression()"
   ]
  },
  {
   "cell_type": "code",
   "execution_count": 17,
   "id": "aa9b2cb8",
   "metadata": {
    "execution": {
     "iopub.execute_input": "2022-02-13T08:05:22.687756Z",
     "iopub.status.busy": "2022-02-13T08:05:22.686863Z",
     "iopub.status.idle": "2022-02-13T08:05:22.745639Z",
     "shell.execute_reply": "2022-02-13T08:05:22.746052Z",
     "shell.execute_reply.started": "2022-02-13T08:03:13.267406Z"
    },
    "papermill": {
     "duration": 0.085604,
     "end_time": "2022-02-13T08:05:22.746214",
     "exception": false,
     "start_time": "2022-02-13T08:05:22.660610",
     "status": "completed"
    },
    "tags": []
   },
   "outputs": [
    {
     "data": {
      "text/plain": [
       "LogisticRegression()"
      ]
     },
     "execution_count": 17,
     "metadata": {},
     "output_type": "execute_result"
    }
   ],
   "source": [
    "# training the Logistic Regression model with the training data\n",
    "model.fit(X_train_features, Y_train)"
   ]
  },
  {
   "cell_type": "markdown",
   "id": "0224da27",
   "metadata": {
    "papermill": {
     "duration": 0.023392,
     "end_time": "2022-02-13T08:05:22.793201",
     "exception": false,
     "start_time": "2022-02-13T08:05:22.769809",
     "status": "completed"
    },
    "tags": []
   },
   "source": [
    "# Evaluating the trained model"
   ]
  },
  {
   "cell_type": "code",
   "execution_count": 18,
   "id": "e7799af0",
   "metadata": {
    "execution": {
     "iopub.execute_input": "2022-02-13T08:05:22.843108Z",
     "iopub.status.busy": "2022-02-13T08:05:22.842540Z",
     "iopub.status.idle": "2022-02-13T08:05:22.847155Z",
     "shell.execute_reply": "2022-02-13T08:05:22.847593Z",
     "shell.execute_reply.started": "2022-02-13T08:03:54.363895Z"
    },
    "papermill": {
     "duration": 0.031038,
     "end_time": "2022-02-13T08:05:22.847756",
     "exception": false,
     "start_time": "2022-02-13T08:05:22.816718",
     "status": "completed"
    },
    "tags": []
   },
   "outputs": [],
   "source": [
    "# prediction on training data\n",
    "\n",
    "prediction_on_training_data = model.predict(X_train_features)\n",
    "accuracy_on_training_data = accuracy_score(Y_train, prediction_on_training_data)"
   ]
  },
  {
   "cell_type": "code",
   "execution_count": 19,
   "id": "99956a65",
   "metadata": {
    "execution": {
     "iopub.execute_input": "2022-02-13T08:05:22.898206Z",
     "iopub.status.busy": "2022-02-13T08:05:22.897661Z",
     "iopub.status.idle": "2022-02-13T08:05:22.902274Z",
     "shell.execute_reply": "2022-02-13T08:05:22.902735Z",
     "shell.execute_reply.started": "2022-02-13T08:04:14.301716Z"
    },
    "papermill": {
     "duration": 0.031041,
     "end_time": "2022-02-13T08:05:22.902899",
     "exception": false,
     "start_time": "2022-02-13T08:05:22.871858",
     "status": "completed"
    },
    "tags": []
   },
   "outputs": [
    {
     "name": "stdout",
     "output_type": "stream",
     "text": [
      "Accuracy on training data :  0.9670181736594121\n"
     ]
    }
   ],
   "source": [
    "print('Accuracy on training data : ', accuracy_on_training_data)"
   ]
  },
  {
   "cell_type": "code",
   "execution_count": 20,
   "id": "995e8c4e",
   "metadata": {
    "execution": {
     "iopub.execute_input": "2022-02-13T08:05:22.953622Z",
     "iopub.status.busy": "2022-02-13T08:05:22.953085Z",
     "iopub.status.idle": "2022-02-13T08:05:22.956992Z",
     "shell.execute_reply": "2022-02-13T08:05:22.957488Z",
     "shell.execute_reply.started": "2022-02-13T08:04:20.664735Z"
    },
    "papermill": {
     "duration": 0.030758,
     "end_time": "2022-02-13T08:05:22.957650",
     "exception": false,
     "start_time": "2022-02-13T08:05:22.926892",
     "status": "completed"
    },
    "tags": []
   },
   "outputs": [],
   "source": [
    "# prediction on test data\n",
    "\n",
    "prediction_on_test_data = model.predict(X_test_features)\n",
    "accuracy_on_test_data = accuracy_score(Y_test, prediction_on_test_data)"
   ]
  },
  {
   "cell_type": "code",
   "execution_count": 21,
   "id": "a34d5138",
   "metadata": {
    "execution": {
     "iopub.execute_input": "2022-02-13T08:05:23.008249Z",
     "iopub.status.busy": "2022-02-13T08:05:23.007692Z",
     "iopub.status.idle": "2022-02-13T08:05:23.011935Z",
     "shell.execute_reply": "2022-02-13T08:05:23.012393Z",
     "shell.execute_reply.started": "2022-02-13T08:04:35.170854Z"
    },
    "papermill": {
     "duration": 0.031055,
     "end_time": "2022-02-13T08:05:23.012571",
     "exception": false,
     "start_time": "2022-02-13T08:05:22.981516",
     "status": "completed"
    },
    "tags": []
   },
   "outputs": [
    {
     "name": "stdout",
     "output_type": "stream",
     "text": [
      "Accuracy on test data :  0.9659192825112107\n"
     ]
    }
   ],
   "source": [
    "print('Accuracy on test data : ', accuracy_on_test_data)"
   ]
  },
  {
   "cell_type": "markdown",
   "id": "aea44e76",
   "metadata": {
    "papermill": {
     "duration": 0.024265,
     "end_time": "2022-02-13T08:05:23.061577",
     "exception": false,
     "start_time": "2022-02-13T08:05:23.037312",
     "status": "completed"
    },
    "tags": []
   },
   "source": [
    "# Building a Predictive System"
   ]
  },
  {
   "cell_type": "code",
   "execution_count": 22,
   "id": "1e8754b7",
   "metadata": {
    "execution": {
     "iopub.execute_input": "2022-02-13T08:05:23.113045Z",
     "iopub.status.busy": "2022-02-13T08:05:23.112483Z",
     "iopub.status.idle": "2022-02-13T08:05:23.120259Z",
     "shell.execute_reply": "2022-02-13T08:05:23.119785Z",
     "shell.execute_reply.started": "2022-02-13T08:04:56.365121Z"
    },
    "papermill": {
     "duration": 0.034324,
     "end_time": "2022-02-13T08:05:23.120386",
     "exception": false,
     "start_time": "2022-02-13T08:05:23.086062",
     "status": "completed"
    },
    "tags": []
   },
   "outputs": [
    {
     "name": "stdout",
     "output_type": "stream",
     "text": [
      "[1]\n",
      "Ham mail\n"
     ]
    }
   ],
   "source": [
    "input_mail = [\"I've been searching for the right words to thank you for this breather. I promise i wont take your help for granted and will fulfil my promise. You have been wonderful and a blessing at all times\"]\n",
    "\n",
    "# convert text to feature vectors\n",
    "input_data_features = feature_extraction.transform(input_mail)\n",
    "\n",
    "# making prediction\n",
    "\n",
    "prediction = model.predict(input_data_features)\n",
    "print(prediction)\n",
    "\n",
    "\n",
    "if (prediction[0]==1):\n",
    "  print('Ham mail')\n",
    "\n",
    "else:\n",
    "  print('Spam mail')"
   ]
  },
  {
   "cell_type": "code",
   "execution_count": null,
   "id": "114805e9",
   "metadata": {
    "papermill": {
     "duration": 0.024356,
     "end_time": "2022-02-13T08:05:23.170108",
     "exception": false,
     "start_time": "2022-02-13T08:05:23.145752",
     "status": "completed"
    },
    "tags": []
   },
   "outputs": [],
   "source": []
  }
 ],
 "metadata": {
  "kernelspec": {
   "display_name": "Python 3",
   "language": "python",
   "name": "python3"
  },
  "language_info": {
   "codemirror_mode": {
    "name": "ipython",
    "version": 3
   },
   "file_extension": ".py",
   "mimetype": "text/x-python",
   "name": "python",
   "nbconvert_exporter": "python",
   "pygments_lexer": "ipython3",
   "version": "3.7.12"
  },
  "papermill": {
   "default_parameters": {},
   "duration": 12.014794,
   "end_time": "2022-02-13T08:05:23.806820",
   "environment_variables": {},
   "exception": null,
   "input_path": "__notebook__.ipynb",
   "output_path": "__notebook__.ipynb",
   "parameters": {},
   "start_time": "2022-02-13T08:05:11.792026",
   "version": "2.3.3"
  }
 },
 "nbformat": 4,
 "nbformat_minor": 5
}
